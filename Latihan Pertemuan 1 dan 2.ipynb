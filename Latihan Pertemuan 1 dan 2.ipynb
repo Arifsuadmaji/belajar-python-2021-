{
 "cells": [
  {
   "cell_type": "markdown",
   "id": "84ca9df0",
   "metadata": {},
   "source": [
    "# Nama : Arif Su'admaji\n",
    "    "
   ]
  },
  {
   "cell_type": "markdown",
   "id": "55133df9",
   "metadata": {},
   "source": [
    "# Latihan 1 Biodata Idolaku"
   ]
  },
  {
   "cell_type": "code",
   "execution_count": 1,
   "id": "28d024d6",
   "metadata": {},
   "outputs": [
    {
     "name": "stdout",
     "output_type": "stream",
     "text": [
      "Nama : Wanti \n",
      "Umur : 47.0 Tahun \n",
      "Agama : Islam \n",
      "Gender : Wanita \n",
      "Alamat : Tanjung kurung\n",
      "Merupakan ibu saya yang menjadi Wanita terbaik yang pertama kali saya kenal dan sebagai guru yang selalu menjadi Motivasi untuk saya\n"
     ]
    }
   ],
   "source": [
    "Nama = 'Wanti'\n",
    "Umur = 94/(46/23)\n",
    "Agama = 'Islam'\n",
    "Gender = 'Wanita'\n",
    "Alamat = 'Tanjung kurung'\n",
    "Keterangan = \"Motivasi\"\n",
    "\n",
    "print('Nama :', Nama,'\\nUmur :', Umur,'Tahun','\\nAgama :', Agama,'\\nGender :', Gender,'\\nAlamat :', Alamat)\n",
    "print('Merupakan ibu saya yang menjadi',Gender,'terbaik yang pertama kali saya kenal dan sebagai guru yang selalu menjadi',Keterangan,'untuk saya')"
   ]
  },
  {
   "cell_type": "markdown",
   "id": "f0db95f6",
   "metadata": {},
   "source": [
    "# Latihan 2 Halo"
   ]
  },
  {
   "cell_type": "code",
   "execution_count": 2,
   "id": "22bb383b",
   "metadata": {},
   "outputs": [
    {
     "name": "stdout",
     "output_type": "stream",
     "text": [
      "Siapa nama anda?Arif Su'admaji\n",
      "Halo, Arif Su'admaji\n"
     ]
    }
   ],
   "source": [
    "Nama = input('Siapa nama anda?')\n",
    "print('Halo,', Nama)"
   ]
  },
  {
   "cell_type": "markdown",
   "id": "d2e98a60",
   "metadata": {},
   "source": [
    "# Latihan 3 Luas Ruangan"
   ]
  },
  {
   "cell_type": "code",
   "execution_count": 3,
   "id": "d2dd07a4",
   "metadata": {},
   "outputs": [
    {
     "name": "stdout",
     "output_type": "stream",
     "text": [
      "Panjang ruangan : 25 m\n",
      "Lebar ruangan : 10.0 m\n",
      "Luas ruangan dalah : 250.0 m2\n"
     ]
    }
   ],
   "source": [
    "P = 5*5\n",
    "L = 30/3\n",
    "Luas = P*L\n",
    "print('Panjang ruangan :',P,\"m\")\n",
    "print('Lebar ruangan :',L,\"m\")\n",
    "print('Luas ruangan dalah :',Luas,\"m2\")"
   ]
  },
  {
   "cell_type": "code",
   "execution_count": 4,
   "id": "61bb6b41",
   "metadata": {},
   "outputs": [
    {
     "name": "stdout",
     "output_type": "stream",
     "text": [
      "Masukan panjang :34\n",
      "Masukan Lebar :11\n",
      "Panjang ruangan : 34.0 m\n",
      "Lebar ruangan : 11.0 m\n",
      "Luas ruangan dalah : 374.0 m2\n"
     ]
    }
   ],
   "source": [
    "P = float(input('Masukan panjang :'))\n",
    "L = float(input('Masukan Lebar :'))\n",
    "\n",
    "Luas = P*L\n",
    "print('Panjang ruangan :',P,\"m\")\n",
    "print('Lebar ruangan :',L,\"m\")\n",
    "print('Luas ruangan dalah :',Luas,\"m2\")"
   ]
  },
  {
   "cell_type": "markdown",
   "id": "411e6ce1",
   "metadata": {},
   "source": [
    "# Latihan 4 Jumlah dari n int positif pertama"
   ]
  },
  {
   "cell_type": "code",
   "execution_count": 5,
   "id": "d695abaa",
   "metadata": {},
   "outputs": [
    {
     "name": "stdout",
     "output_type": "stream",
     "text": [
      "n =5\n",
      "Jumlah dari n integer positif adalah 15.0\n"
     ]
    }
   ],
   "source": [
    "n = int(input('n ='))\n",
    "Jumlah = (n)*(n+1)/2\n",
    "print('Jumlah dari n integer positif adalah',Jumlah)"
   ]
  },
  {
   "cell_type": "markdown",
   "id": "4ff7b35a",
   "metadata": {},
   "source": [
    "# Latihan 5 Satuan Tinggi"
   ]
  },
  {
   "cell_type": "code",
   "execution_count": 6,
   "id": "b25907c5",
   "metadata": {},
   "outputs": [
    {
     "name": "stdout",
     "output_type": "stream",
     "text": [
      "Convert tinggi bandan\n",
      "Berapa kaki =5\n",
      "Lebih berapa Inci =10\n",
      "Tinggi = 177.8 Cm\n"
     ]
    }
   ],
   "source": [
    "print('Convert tinggi bandan')\n",
    "T_Kaki = float(input('Berapa kaki ='))\n",
    "T_Inci = float(input('Lebih berapa Inci ='))\n",
    "\n",
    "Tinggi = ((T_Kaki*12) + T_Inci)*2.54\n",
    "print('Tinggi =',Tinggi,'Cm')"
   ]
  },
  {
   "cell_type": "markdown",
   "id": "ddbefc37",
   "metadata": {},
   "source": [
    "# Latihan 6 Satuan Jarak"
   ]
  },
  {
   "cell_type": "code",
   "execution_count": 7,
   "id": "b486a9c9",
   "metadata": {},
   "outputs": [
    {
     "name": "stdout",
     "output_type": "stream",
     "text": [
      "Berapa jaraknya\n",
      "Masukan Jarak(Kaki) =5\n",
      "Jarak = 5.0 Kaki\n",
      "      = 60.0 Inci\n",
      "      = 1.6664999999999999 yard\n",
      "      = 0.00094695 mil\n"
     ]
    }
   ],
   "source": [
    "print('Berapa jaraknya')\n",
    "Jarak_Kaki = float(input('Masukan Jarak(Kaki) ='))\n",
    "Jarak_Inci = Jarak_Kaki*12\n",
    "Jarak_yard = Jarak_Kaki*0.3333\n",
    "Jarak_mil = Jarak_Kaki* 0.00018939\n",
    "\n",
    "print('Jarak =',Jarak_Kaki,'Kaki')\n",
    "print('      =',Jarak_Inci,'Inci')\n",
    "print('      =',Jarak_yard,'yard')\n",
    "print('      =',Jarak_mil,'mil')"
   ]
  },
  {
   "cell_type": "markdown",
   "id": "1fd173b7",
   "metadata": {},
   "source": [
    "# Latihan 7 Luas Segitiga"
   ]
  },
  {
   "cell_type": "code",
   "execution_count": 1,
   "id": "8d93dde0",
   "metadata": {},
   "outputs": [
    {
     "name": "stdout",
     "output_type": "stream",
     "text": [
      "Panjang Alas : 25 m\n",
      "Tinggi : 10.0 m\n",
      "Luas segitiga dalah : 125.0 m2\n"
     ]
    }
   ],
   "source": [
    "a = 5*5\n",
    "t = 30/3\n",
    "Luas = (a*t)/2\n",
    "print('Panjang Alas :',a,\"m\")\n",
    "print('Tinggi :',t,\"m\")\n",
    "print('Luas segitiga dalah :',Luas,\"m2\")"
   ]
  },
  {
   "cell_type": "code",
   "execution_count": 2,
   "id": "82f2763c",
   "metadata": {},
   "outputs": [
    {
     "name": "stdout",
     "output_type": "stream",
     "text": [
      "Luas Segitiga\n",
      "a =8\n",
      "t =6\n",
      "Luas segitiga dalah : 24.0 m2\n"
     ]
    }
   ],
   "source": [
    "print('Luas Segitiga')\n",
    "a = float(input('a ='))\n",
    "t = float(input('t ='))\n",
    "\n",
    "Luas = (a*t)/2\n",
    "print('Luas segitiga dalah :',Luas,\"m2\")"
   ]
  },
  {
   "cell_type": "markdown",
   "id": "ed05f1b9",
   "metadata": {},
   "source": [
    "# Latihan 8 Body Mass Index"
   ]
  },
  {
   "cell_type": "code",
   "execution_count": 10,
   "id": "26e0ac64",
   "metadata": {},
   "outputs": [
    {
     "name": "stdout",
     "output_type": "stream",
     "text": [
      "Body Mass Index\n",
      "berat badan(kg) =52\n",
      "tinggi badan(m) =168\n",
      "BMI kamu dalah : 0.0018424036281179139\n"
     ]
    }
   ],
   "source": [
    "print('Body Mass Index')\n",
    "w = float(input('berat badan(kg) ='))\n",
    "h = float(input('tinggi badan(m) ='))\n",
    "\n",
    "bmi = w/(h*h)\n",
    "print('BMI kamu dalah :',bmi)"
   ]
  },
  {
   "cell_type": "markdown",
   "id": "98c100ed",
   "metadata": {},
   "source": [
    "# Latihan 9 Unit Tekanan"
   ]
  },
  {
   "cell_type": "code",
   "execution_count": 12,
   "id": "aed61a61",
   "metadata": {},
   "outputs": [
    {
     "name": "stdout",
     "output_type": "stream",
     "text": [
      "Konversi Tekanan\n",
      "tekanan(kilopascal) =3\n",
      "tekanan = 3.0 kilopascal\n",
      "        = 0.4351131 psi\n",
      "        = 22.50186 mmHg\n",
      "        = 0.02960769 atm\n"
     ]
    }
   ],
   "source": [
    "print('Konversi Tekanan')\n",
    "kilopascal = float(input('tekanan(kilopascal) ='))\n",
    "psi = kilopascal*0.1450377\n",
    "mmHg = kilopascal*7.50062\n",
    "atm = kilopascal*0.00986923\n",
    "\n",
    "print('tekanan =',kilopascal,'kilopascal')\n",
    "print('        =',psi,'psi')\n",
    "print('        =',mmHg,'mmHg')\n",
    "print('        =',atm,'atm')"
   ]
  }
 ],
 "metadata": {
  "kernelspec": {
   "display_name": "Python 3 (ipykernel)",
   "language": "python",
   "name": "python3"
  },
  "language_info": {
   "codemirror_mode": {
    "name": "ipython",
    "version": 3
   },
   "file_extension": ".py",
   "mimetype": "text/x-python",
   "name": "python",
   "nbconvert_exporter": "python",
   "pygments_lexer": "ipython3",
   "version": "3.10.2"
  }
 },
 "nbformat": 4,
 "nbformat_minor": 5
}
